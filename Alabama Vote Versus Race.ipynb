{
 "cells": [
  {
   "cell_type": "markdown",
   "metadata": {},
   "source": [
    "# Use Alabama 2016 Election Results To Estimate Partisan Votes By Race"
   ]
  },
  {
   "cell_type": "markdown",
   "metadata": {},
   "source": [
    "Data sources:\n",
    " - County-level 2016 presidential election results: https://en.wikipedia.org/wiki/United_States_presidential_election_in_Alabama,_2016\n",
    " - County-level demographics: https://www.indexmundi.com/facts/united-states/quick-facts/alabama/black-population-percentage#table"
   ]
  },
  {
   "cell_type": "code",
   "execution_count": 1,
   "metadata": {
    "collapsed": true
   },
   "outputs": [],
   "source": [
    "%matplotlib inline\n",
    "import numpy as np\n",
    "import matplotlib.pyplot as plt\n",
    "from scipy.stats import linregress"
   ]
  },
  {
   "cell_type": "code",
   "execution_count": 2,
   "metadata": {
    "collapsed": true
   },
   "outputs": [],
   "source": [
    "# Data:\n",
    "county = {\n",
    "\t'Autauga':{'black':18.4, 'trump':18110, 'clinton':5908},\n",
    "\t'Baldwin':{'black':9.5, 'trump':72780, 'clinton':18409},\n",
    "\t'Barbour':{'black':47.6, 'trump':5431, 'clinton':4848},\n",
    "\t'Bibb':{'black':22.1, 'trump':6733, 'clinton':1874},\n",
    "\t'Blount':{'black':1.8, 'trump':22808, 'clinton':2150},\n",
    "\t'Bullock':{'black':69.9, 'trump':1139, 'clinton':3530},\n",
    "\t'Butler':{'black':43.6, 'trump':4891, 'clinton':3716},\n",
    "\t'Calhoun':{'black':20.9, 'trump':32803, 'clinton':13197},\n",
    "\t'Chambers':{'black':39.1, 'trump':7803, 'clinton':5763},\n",
    "\t'Cherokee':{'black':4.5, 'trump':8937, 'clinton':1545},\n",
    "\t'Chilton':{'black':10.3, 'trump':15068, 'clinton':2909},\n",
    "\t'Choctaw':{'black':42.7, 'trump':4102, 'clinton':3109},\n",
    "\t'Clarke':{'black':44.2, 'trump':7109, 'clinton':5712},\n",
    "\t'Clay':{'black':14.4, 'trump':5230, 'clinton':1234},\n",
    "\t'Cleburne':{'black':3.6, 'trump':5738, 'clinton':684},\n",
    "\t'Coffee':{'black':17.5, 'trump':15825, 'clinton':4194},\n",
    "\t'Colbert':{'black':16.4, 'trump':16718, 'clinton':7296},\n",
    "\t'Conecuh':{'black':46.0, 'trump':3413, 'clinton':3069},\n",
    "\t'Coosa':{'black':31.3, 'trump':3376, 'clinton':1780},\n",
    "\t'Covington':{'black':12.7, 'trump':13222, 'clinton':2379},\n",
    "\t'Crenshaw':{'black':24.1, 'trump':4511, 'clinton':1663},\n",
    "\t'Cullman':{'black':1.4, 'trump':32734, 'clinton':3730},\n",
    "\t'Dale':{'black':19.6, 'trump':13789, 'clinton':4408},\n",
    "\t'Dallas':{'black':69.6, 'trump':5784, 'clinton':12826},\n",
    "\t'DeKalb':{'black':2.0, 'trump':21779, 'clinton':3682},\n",
    "\t'Elmore':{'black':21.1, 'trump':27619, 'clinton':8436},\n",
    "\t'Escambia':{'black':32.2, 'trump':10282, 'clinton':4698},\n",
    "\t'Etowah':{'black':15.5, 'trump':32132, 'clinton':10350},\n",
    "\t'Fayette':{'black':11.8, 'trump':6705, 'clinton':1358},\n",
    "\t'Franklin':{'black':4.3, 'trump':9466, 'clinton':2197},\n",
    "\t'Geneva':{'black':9.8, 'trump':9967, 'clinton':1522},\n",
    "\t'Greene':{'black':80.2, 'trump':838, 'clinton':4006},\n",
    "\t'Hale':{'black':57.9, 'trump':3172, 'clinton':4772},\n",
    "\t'Henry':{'black':27.5, 'trump':5623, 'clinton':2286},\n",
    "\t'Houston':{'black':26.4, 'trump':30567, 'clinton':10547},\n",
    "\t'Jackson':{'black':3.4, 'trump':16643, 'clinton':3663},\n",
    "\t'Jefferson':{'black':42.8, 'trump':134398, 'clinton':156384},\n",
    "\t'Lamar':{'black':11.4, 'trump':5819, 'clinton':1035},\n",
    "\t'Lauderdale':{'black':10.2, 'trump':27735, 'clinton':9877},\n",
    "\t'Lawrence':{'black':11.4, 'trump':10732, 'clinton':3611},\n",
    "\t'Lee':{'black':23.5, 'trump':34321, 'clinton':20987},\n",
    "\t'Limestone':{'black':13.2, 'trump':28824, 'clinton':9340},\n",
    "\t'Lowndes':{'black':73.1, 'trump':1751, 'clinton':4882},\n",
    "\t'Macon':{'black':81.5, 'trump':1394, 'clinton':7237},\n",
    "\t'Madison':{'black':24.5, 'trump':89199, 'clinton':62435},\n",
    "\t'Marengo':{'black':51.1, 'trump':5224, 'clinton':5607},\n",
    "\t'Marion':{'black':4.2, 'trump':11273, 'clinton':1432},\n",
    "\t'Marshall':{'black':2.3, 'trump':29217, 'clinton':4913},\n",
    "\t'Mobile':{'black':35.3, 'trump':94002, 'clinton':71001},\n",
    "\t'Monroe':{'black':41.3, 'trump':5771, 'clinton':4310},\n",
    "\t'Montgomery':{'black':56.3, 'trump':33928, 'clinton':58669},\n",
    "\t'Morgan':{'black':12.4, 'trump':37392, 'clinton':11216},\n",
    "\t'Perry':{'black':67.6, 'trump':1403, 'clinton':3823},\n",
    "\t'Pickens':{'black':40.9, 'trump':5454, 'clinton':3972},\n",
    "\t'Pike':{'black':36.7, 'trump':7681, 'clinton':5039},\n",
    "\t'Randolph':{'black':20.1, 'trump':7697, 'clinton':2290},\n",
    "\t'Russell':{'black':42.3, 'trump':9210, 'clinton':9577},\n",
    "\t'Shelby':{'black':11.8, 'trump':72846, 'clinton':22927},\n",
    "\t'St. Clair':{'black':9.3, 'trump':31579, 'clinton':5550},\n",
    "\t'Sumter':{'black':73.5, 'trump':1581, 'clinton':4739},\n",
    "\t'Talladega':{'black':32.3, 'trump':20596, 'clinton':12108},\n",
    "\t'Tallapoosa':{'black':27.1, 'trump':13546, 'clinton':5495},\n",
    "\t'Tuscaloosa':{'black':30.7, 'trump':47701, 'clinton':31746},\n",
    "\t'Walker':{'black':6.2, 'trump':24208, 'clinton':4486},\n",
    "\t'Washington':{'black':24.5, 'trump':6031, 'clinton':2366},\n",
    "\t'Wilcox':{'black':71.2, 'trump':1737, 'clinton':4329},\n",
    "\t'Winston':{'black':0.9, 'trump':9225, 'clinton':871}\n",
    "}\n",
    "\n",
    "ncounty = len(county)"
   ]
  },
  {
   "cell_type": "code",
   "execution_count": 3,
   "metadata": {
    "collapsed": true
   },
   "outputs": [],
   "source": [
    "# Collate Clinton percentage, black population percentage, and population\n",
    "Cpct = []\n",
    "Bpct = []\n",
    "Pop = []\n",
    "for cname in county:\n",
    "    c = county[cname]\n",
    "    Bpct.append(c['black']/100.0)\n",
    "    totvote = float(c['trump'] + c['clinton'])\n",
    "    Pop.append(totvote)\n",
    "    Cpct.append(c['clinton']/totvote)\n",
    "Cpct = np.array(Cpct)*100\n",
    "Bpct = np.array(Bpct)\n",
    "Pop = np.array(Pop)"
   ]
  },
  {
   "cell_type": "markdown",
   "metadata": {},
   "source": [
    "## Linear regression:\n",
    "\n",
    "Assume that in each county, white voters are split between $W_C$ who vote for Clinton and $W_T$ who vote for Trump, while black voters are split between $B_C$ who vote for Clinton and $B_T$ who vote for Trump. If the fraction of black voters is $b$, then the percentage of Clinton voters is:\n",
    "\n",
    "$$ C = b B_C + (1-b) W_C $$\n",
    "$$ C = b (B_C - W_C) + W_C $$\n",
    "\n",
    "So if we do a linear regression of $C$ versus $b$, the intercept will be $W_C$ and the slope will be $B_C - W_C$."
   ]
  },
  {
   "cell_type": "code",
   "execution_count": 4,
   "metadata": {
    "collapsed": false
   },
   "outputs": [
    {
     "name": "stdout",
     "output_type": "stream",
     "text": [
      "White voters who voted for Clinton: 9.1%\n",
      "Black voters who voted for Clinton: 97.5%\n"
     ]
    }
   ],
   "source": [
    "import numpy as np\n",
    "from scipy.stats import linregress\n",
    "slope, intercept, rval, pval, stderr = linregress(Bpct, Cpct)\n",
    "WC = intercept\n",
    "BC = slope + WC\n",
    "print 'White voters who voted for Clinton: %.1f%%' % WC\n",
    "print 'Black voters who voted for Clinton: %.1f%%' % BC"
   ]
  },
  {
   "cell_type": "markdown",
   "metadata": {},
   "source": [
    "By this measure, white voters preferred Trump 91-9, while black voters preferred Clinton 97.5-2.5!!\n",
    "\n",
    "But is the linear regression a good model?"
   ]
  },
  {
   "cell_type": "code",
   "execution_count": 5,
   "metadata": {
    "collapsed": false
   },
   "outputs": [
    {
     "data": {
      "text/plain": [
       "<matplotlib.text.Text at 0x1156b9c50>"
      ]
     },
     "execution_count": 5,
     "metadata": {},
     "output_type": "execute_result"
    },
    {
     "data": {
      "image/png": "[encoded data removed]",
      "text/plain": [
       "<matplotlib.figure.Figure at 0x115644f10>"
      ]
     },
     "metadata": {},
     "output_type": "display_data"
    }
   ],
   "source": [
    "import matplotlib.pyplot as plt\n",
    "plt.plot(Bpct, Cpct, 'o')\n",
    "xax = np.arange(0,1,0.1)\n",
    "plt.plot(xax, intercept + slope*xax)\n",
    "plt.xlabel('Black fraction of population')\n",
    "plt.ylabel('Clinton vote percentage')\n",
    "plt.title('Alabma county-level 2016 results')"
   ]
  },
  {
   "cell_type": "markdown",
   "metadata": {},
   "source": [
    "Yes, that is an excellent model."
   ]
  },
  {
   "cell_type": "markdown",
   "metadata": {},
   "source": [
    "### Does population matter?\n",
    "\n",
    "If the residuals correlate with population, then it might be more complicated. For example, if white voters in big cities are more likely to vote for Clinton, then the total value of $W_C$ might have been underestimated (since there are, by definition, more voters there, so they should count more to the total).\n",
    "\n",
    "First let's see if there's any correlation:"
   ]
  },
  {
   "cell_type": "code",
   "execution_count": 6,
   "metadata": {
    "collapsed": false
   },
   "outputs": [
    {
     "data": {
      "text/plain": [
       "<matplotlib.text.Text at 0x115644250>"
      ]
     },
     "execution_count": 6,
     "metadata": {},
     "output_type": "execute_result"
    },
    {
     "data": {
      "image/png": "[encoded data removed]",
      "text/plain": [
       "<matplotlib.figure.Figure at 0x11578dad0>"
      ]
     },
     "metadata": {},
     "output_type": "display_data"
    }
   ],
   "source": [
    "residual = Cpct - (intercept + slope*Bpct)\n",
    "plt.plot(Pop, residual, 'o')\n",
    "plt.xlabel('Population')\n",
    "plt.ylabel('Excess Clinton vote fraction')"
   ]
  },
  {
   "cell_type": "markdown",
   "metadata": {},
   "source": [
    "Yes, it appears that white voters in high-population counties voted for Clinton more than white voters in low-population counties. It also looks like a logarithmic scale for population would help."
   ]
  },
  {
   "cell_type": "code",
   "execution_count": 7,
   "metadata": {
    "collapsed": false
   },
   "outputs": [
    {
     "data": {
      "text/plain": [
       "<matplotlib.text.Text at 0x118050650>"
      ]
     },
     "execution_count": 7,
     "metadata": {},
     "output_type": "execute_result"
    },
    {
     "data": {
      "image/png": "[encoded data removed]",
      "text/plain": [
       "<matplotlib.figure.Figure at 0x1180c5610>"
      ]
     },
     "metadata": {},
     "output_type": "display_data"
    }
   ],
   "source": [
    "plt.semilogx(Pop, residual, 'o')\n",
    "plt.xlabel('Population')\n",
    "plt.ylabel('Excess Clinton vote fraction')"
   ]
  },
  {
   "cell_type": "markdown",
   "metadata": {},
   "source": [
    "There's certainly a relationship, but it contains too much scatter to be worth fitting.\n",
    "\n",
    "However, to get the total white Clinton vote share, I can simply use the residuals on their own. Given that the black Clinton vote share is already nearly 100%, I will assume that *all* of the population effect comes from the white voters. In other words, for a county with black population fraction $b$ and a Clinton vote share of $C$, I will assume that the Clinton white vote share is:\n",
    "\n",
    "$$ W_C = a + r $$\n",
    "where $a$ is the intercept from the original relationship (=9.1%) and $r \\equiv C -(a + m b)$ is the residual."
   ]
  },
  {
   "cell_type": "markdown",
   "metadata": {},
   "source": [
    "Then I will add up all of the Clinton white votes and compare to the white population."
   ]
  },
  {
   "cell_type": "code",
   "execution_count": 8,
   "metadata": {
    "collapsed": false
   },
   "outputs": [
    {
     "name": "stdout",
     "output_type": "stream",
     "text": [
      "White Clinton votes:  242317.188045\n",
      "White votes:  2034562.95634\n",
      "White Clinton percentage:  11.9100363687\n"
     ]
    }
   ],
   "source": [
    "whitepop = Pop * (100. - Bpct) / 100.0\n",
    "whiteCpct = intercept + residual\n",
    "whiteCvotes = np.sum(whiteCpct/100.0 * whitepop)\n",
    "whitevotes = np.sum(whitepop)\n",
    "print 'White Clinton votes: ',whiteCvotes\n",
    "print 'White votes: ',whitevotes\n",
    "print 'White Clinton percentage: ', 100.0 * whiteCvotes / whitevotes\n"
   ]
  },
  {
   "cell_type": "markdown",
   "metadata": {
    "collapsed": true
   },
   "source": [
    "## Conclusion\n",
    "About 12% of white voters in Alabama voted for Clinton, compared to about 97% of black voters."
   ]
  },
  {
   "cell_type": "code",
   "execution_count": null,
   "metadata": {
    "collapsed": true
   },
   "outputs": [],
   "source": []
  }
 ],
 "metadata": {
  "kernelspec": {
   "display_name": "Python 2",
   "language": "python",
   "name": "python2"
  },
  "language_info": {
   "codemirror_mode": {
    "name": "ipython",
    "version": 2
   },
   "file_extension": ".py",
   "mimetype": "text/x-python",
   "name": "python",
   "nbconvert_exporter": "python",
   "pygments_lexer": "ipython2",
   "version": "2.7.13"
  }
 },
 "nbformat": 4,
 "nbformat_minor": 0
}
